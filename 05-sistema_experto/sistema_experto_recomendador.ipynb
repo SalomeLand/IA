{
  "nbformat": 4,
  "nbformat_minor": 0,
  "metadata": {
    "colab": {
      "provenance": []
    },
    "kernelspec": {
      "name": "python3",
      "display_name": "Python 3"
    },
    "language_info": {
      "name": "python"
    }
  },
  "cells": [
    {
      "cell_type": "code",
      "source": [
        "# Ejecuta esta celda solo si no tienes instalado scikit-fuzzy\n",
        "!pip install scikit-fuzzy\n"
      ],
      "metadata": {
        "colab": {
          "base_uri": "https://localhost:8080/"
        },
        "id": "L6RG5q9Kz7A8",
        "outputId": "260dec09-d8b0-49bd-93a9-8e87b05ed3e4"
      },
      "execution_count": 3,
      "outputs": [
        {
          "output_type": "stream",
          "name": "stdout",
          "text": [
            "Collecting scikit-fuzzy\n",
            "  Downloading scikit_fuzzy-0.5.0-py2.py3-none-any.whl.metadata (2.6 kB)\n",
            "Downloading scikit_fuzzy-0.5.0-py2.py3-none-any.whl (920 kB)\n",
            "\u001b[2K   \u001b[90m━━━━━━━━━━━━━━━━━━━━━━━━━━━━━━━━━━━━━━━━\u001b[0m \u001b[32m920.8/920.8 kB\u001b[0m \u001b[31m14.6 MB/s\u001b[0m eta \u001b[36m0:00:00\u001b[0m\n",
            "\u001b[?25hInstalling collected packages: scikit-fuzzy\n",
            "Successfully installed scikit-fuzzy-0.5.0\n"
          ]
        }
      ]
    },
    {
      "cell_type": "code",
      "source": [
        "import numpy as np\n",
        "import skfuzzy as fuzz\n",
        "from skfuzzy import control as ctrl\n",
        "import random\n"
      ],
      "metadata": {
        "id": "S9QvAnZH0AKS"
      },
      "execution_count": 4,
      "outputs": []
    },
    {
      "cell_type": "code",
      "source": [
        "# Entradas\n",
        "genero = ctrl.Antecedent(np.arange(0, 11, 1), 'genero')\n",
        "plataforma = ctrl.Antecedent(np.arange(0, 11, 1), 'plataforma')\n",
        "tipo_juego = ctrl.Antecedent(np.arange(0, 11, 1), 'tipo_juego')\n",
        "\n",
        "# Salida\n",
        "recomendacion = ctrl.Consequent(np.arange(0, 11, 1), 'recomendacion')\n"
      ],
      "metadata": {
        "id": "snH0ty860GQb"
      },
      "execution_count": 5,
      "outputs": []
    },
    {
      "cell_type": "code",
      "source": [
        "# Género\n",
        "genero['accion'] = fuzz.trapmf(genero.universe, [0, 0, 2, 5])\n",
        "genero['aventura'] = fuzz.trapmf(genero.universe, [2, 4, 6, 8])\n",
        "genero['estrategia'] = fuzz.trapmf(genero.universe, [5, 8, 10, 10])\n",
        "\n",
        "# Plataforma\n",
        "plataforma['pc'] = fuzz.trapmf(plataforma.universe, [0, 0, 2, 5])\n",
        "plataforma['playstation'] = fuzz.trapmf(plataforma.universe, [2, 4, 6, 8])\n",
        "plataforma['xbox'] = fuzz.trapmf(plataforma.universe, [5, 7, 9, 10])\n",
        "plataforma['switch'] = fuzz.trapmf(plataforma.universe, [3, 5, 7, 9])\n",
        "\n",
        "# Tipo de juego\n",
        "tipo_juego['multijugador'] = fuzz.trapmf(tipo_juego.universe, [0, 0, 2, 5])\n",
        "tipo_juego['solo'] = fuzz.trapmf(tipo_juego.universe, [5, 7, 10, 10])\n",
        "\n",
        "# Recomendación\n",
        "recomendacion['muy_baja'] = fuzz.trimf(recomendacion.universe, [0, 0, 2])\n",
        "recomendacion['baja'] = fuzz.trimf(recomendacion.universe, [1, 3, 5])\n",
        "recomendacion['media'] = fuzz.trimf(recomendacion.universe, [4, 5.5, 7])\n",
        "recomendacion['alta'] = fuzz.trimf(recomendacion.universe, [6, 7.5, 9])\n",
        "recomendacion['muy_alta'] = fuzz.trimf(recomendacion.universe, [8, 10, 10])\n"
      ],
      "metadata": {
        "id": "jCZ6lE660JIb"
      },
      "execution_count": 6,
      "outputs": []
    },
    {
      "cell_type": "code",
      "source": [
        "rules = [\n",
        "    ctrl.Rule(genero['accion'] & plataforma['pc'] & tipo_juego['multijugador'], recomendacion['muy_alta']),\n",
        "    ctrl.Rule(genero['aventura'] & plataforma['playstation'] & tipo_juego['solo'], recomendacion['alta']),\n",
        "    ctrl.Rule(genero['estrategia'] & plataforma['pc'], recomendacion['muy_alta']),\n",
        "    ctrl.Rule(genero['accion'] & plataforma['switch'], recomendacion['media']),\n",
        "    ctrl.Rule(genero['estrategia'] & plataforma['xbox'], recomendacion['media']),\n",
        "    ctrl.Rule(genero['aventura'] & tipo_juego['multijugador'], recomendacion['media']),\n",
        "    ctrl.Rule(genero['accion'] & plataforma['xbox'], recomendacion['alta']),\n",
        "    ctrl.Rule(plataforma['switch'] & tipo_juego['solo'], recomendacion['media']),\n",
        "    ctrl.Rule(genero['estrategia'] & tipo_juego['solo'], recomendacion['alta']),\n",
        "    ctrl.Rule(tipo_juego['multijugador'], recomendacion['baja']),\n",
        "    ctrl.Rule(tipo_juego['solo'], recomendacion['media']),\n",
        "]\n",
        "\n",
        "recomendador_ctrl = ctrl.ControlSystem(rules)\n"
      ],
      "metadata": {
        "id": "rD2GAHqe0Nrc"
      },
      "execution_count": 7,
      "outputs": []
    },
    {
      "cell_type": "code",
      "source": [
        "juegos_por_rango = {\n",
        "    \"muy_baja\": [\"Candy Crush\", \"Flappy Bird\", \"Subway Surfers\"],\n",
        "    \"baja\": [\"Angry Birds\", \"Clash of Clans\", \"Plants vs Zombies\"],\n",
        "    \"media\": [\"Minecraft\", \"Rocket League\", \"Fall Guys\", \"Overcooked\"],\n",
        "    \"alta\": [\"Elden Ring\", \"The Witcher 3\", \"Horizon Zero Dawn\"],\n",
        "    \"muy_alta\": [\"Red Dead Redemption 2\", \"God of War\", \"Zelda: Breath of the Wild\"]\n",
        "}\n"
      ],
      "metadata": {
        "id": "C79HUsnz0Q27"
      },
      "execution_count": 8,
      "outputs": []
    },
    {
      "cell_type": "code",
      "source": [
        "def obtener_juego(puntaje):\n",
        "    if puntaje <= 2.0:\n",
        "        return random.choice(juegos_por_rango[\"muy_baja\"])\n",
        "    elif puntaje <= 4.0:\n",
        "        return random.choice(juegos_por_rango[\"baja\"])\n",
        "    elif puntaje <= 6.0:\n",
        "        return random.choice(juegos_por_rango[\"media\"])\n",
        "    elif puntaje <= 8.0:\n",
        "        return random.choice(juegos_por_rango[\"alta\"])\n",
        "    else:\n",
        "        return random.choice(juegos_por_rango[\"muy_alta\"])\n",
        "\n",
        "\n",
        "def obtener_recomendacion(genero_val, plataforma_val, tipo_juego_val):\n",
        "    recomendador_sim = ctrl.ControlSystemSimulation(recomendador_ctrl)\n",
        "    recomendador_sim.input['genero'] = genero_val\n",
        "    recomendador_sim.input['plataforma'] = plataforma_val\n",
        "    recomendador_sim.input['tipo_juego'] = tipo_juego_val\n",
        "\n",
        "    try:\n",
        "        recomendador_sim.compute()\n",
        "        puntuacion = recomendador_sim.output['recomendacion']\n",
        "        return obtener_juego(puntuacion)\n",
        "    except Exception as e:\n",
        "        print(\"Hubo un problema al calcular la recomendacion:\", e)\n",
        "        return None\n"
      ],
      "metadata": {
        "id": "KRLqyhP80TPk"
      },
      "execution_count": 9,
      "outputs": []
    },
    {
      "cell_type": "code",
      "source": [
        "print(\"Sistema Experto: Recomendador de Videojuegos\")\n",
        "try:\n",
        "    genero_val = float(input(\"¿Qué género prefieres? (acción: 0-5, aventura: 0-10, estrategia: 5-10): \"))\n",
        "    plataforma_val = float(input(\"¿Qué plataforma usas? (PC: 0-5, PlayStation: 0-10, Xbox: 5-10, Switch: 0-10): \"))\n",
        "    tipo_juego_val = float(input(\"¿Prefieres juegos multijugador o para un solo jugador? (multijugador: 0-5, solo: 5-10): \"))\n",
        "\n",
        "    juego = obtener_recomendacion(genero_val, plataforma_val, tipo_juego_val)\n",
        "\n",
        "    if juego:\n",
        "        print(f\"\\n Juego recomendado: {juego}\")\n",
        "    else:\n",
        "        print(\"\\n No se pudo generar una recomendación con los valores que ingresaste.\")\n",
        "except ValueError:\n",
        "    print(\" Entrada no válida. Asegúrate de escribir solo números.\")\n"
      ],
      "metadata": {
        "colab": {
          "base_uri": "https://localhost:8080/"
        },
        "id": "vci6ZUM20V_D",
        "outputId": "fd5e85b7-3a5c-41af-b6db-a8b21dd5bcb0"
      },
      "execution_count": 10,
      "outputs": [
        {
          "output_type": "stream",
          "name": "stdout",
          "text": [
            "Sistema Experto: Recomendador de Videojuegos\n",
            "¿Qué género prefieres? (acción: 0-5, aventura: 0-10, estrategia: 5-10): 4\n",
            "¿Qué plataforma usas? (PC: 0-5, PlayStation: 0-10, Xbox: 5-10, Switch: 0-10): 8\n",
            "¿Prefieres juegos multijugador o para un solo jugador? (multijugador: 0-5, solo: 5-10): 9\n",
            "\n",
            " Juego recomendado: Elden Ring\n"
          ]
        }
      ]
    }
  ]
}